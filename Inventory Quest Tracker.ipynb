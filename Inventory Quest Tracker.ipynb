{
 "cells": [
  {
   "cell_type": "code",
   "execution_count": null,
   "id": "93ad18c4-19a8-4b04-80fc-1eb56927746c",
   "metadata": {},
   "outputs": [],
   "source": []
  },
  {
   "cell_type": "code",
   "execution_count": null,
   "id": "9433c2da-9b5a-4c95-85c4-eca7c4a5209c",
   "metadata": {},
   "outputs": [],
   "source": [
    "'''\n",
    "You are on a quest to collect various items in different locations. Your task is to\n",
    "create a dictionary to keep track of the items you find in each location. Write a\n",
    "Python program that allows you to add items to the dictionary, remove items, and\n",
    "check if a specific item exists in a location.\n",
    " Requirements:\n",
    "1. Create an empty dictionary to represent the player's inventory.\n",
    "2. Prompt the user to enter a location and an item found in that location.\n",
    "3. Add the item to the inventory dictionary with the location as the key and the item\n",
    "as the value.\n",
    "4. Allow the user to remove an item from a specific location.\n",
    "5. Implement a function to check if a specific item exists in any of the locations in\n",
    "the inventory.\n",
    "6. Display the current inventory after each operation.\n",
    "'''"
   ]
  },
  {
   "cell_type": "code",
   "execution_count": 1,
   "id": "92d74c9d-211e-4fe6-8d7c-4b03cfb1a143",
   "metadata": {},
   "outputs": [
    {
     "name": "stdout",
     "output_type": "stream",
     "text": [
      "Inventory Management:\n",
      "1. Add item to inventory\n",
      "2. Remove item from inventory\n",
      "3. Check if item exists in any location\n",
      "4. Exit\n"
     ]
    },
    {
     "name": "stdin",
     "output_type": "stream",
     "text": [
      "Enter your choice (1-4):  1\n",
      "Enter location:  kitchen\n",
      "Enter item found in that location:  spices\n"
     ]
    },
    {
     "name": "stdout",
     "output_type": "stream",
     "text": [
      "spices added to kitchen.\n",
      "\n",
      "Current Inventory:\n",
      "kitchen: spices\n",
      "\n",
      "\n",
      "Inventory Management:\n",
      "1. Add item to inventory\n",
      "2. Remove item from inventory\n",
      "3. Check if item exists in any location\n",
      "4. Exit\n"
     ]
    },
    {
     "name": "stdin",
     "output_type": "stream",
     "text": [
      "Enter your choice (1-4):  1\n",
      "Enter location:  kitchen\n",
      "Enter item found in that location:  vegetables\n"
     ]
    },
    {
     "name": "stdout",
     "output_type": "stream",
     "text": [
      "vegetables added to kitchen.\n",
      "\n",
      "Current Inventory:\n",
      "kitchen: spices, vegetables\n",
      "\n",
      "\n",
      "Inventory Management:\n",
      "1. Add item to inventory\n",
      "2. Remove item from inventory\n",
      "3. Check if item exists in any location\n",
      "4. Exit\n"
     ]
    },
    {
     "name": "stdin",
     "output_type": "stream",
     "text": [
      "Enter your choice (1-4):  3\n",
      "Enter item to check:  spices\n"
     ]
    },
    {
     "name": "stdout",
     "output_type": "stream",
     "text": [
      "spices found in kitchen.\n",
      "Inventory Management:\n",
      "1. Add item to inventory\n",
      "2. Remove item from inventory\n",
      "3. Check if item exists in any location\n",
      "4. Exit\n"
     ]
    },
    {
     "name": "stdin",
     "output_type": "stream",
     "text": [
      "Enter your choice (1-4):  4\n"
     ]
    },
    {
     "name": "stdout",
     "output_type": "stream",
     "text": [
      "Exiting Inventory Manager. Goodbye!\n"
     ]
    }
   ],
   "source": [
    "class InventoryManager:\n",
    "\n",
    "    def __init__(self):\n",
    "        self.inventory = {}\n",
    "\n",
    "    def add_item(self, location, item):\n",
    "        if location in self.inventory:\n",
    "            self.inventory[location].append(item)\n",
    "        else:\n",
    "            self.inventory[location] = [item]\n",
    "        print(f\"{item} added to {location}.\")\n",
    "        self.display_inventory()\n",
    "\n",
    "    def remove_item(self, location, item):\n",
    "        if location in self.inventory and item in self.inventory[location]:\n",
    "            self.inventory[location].remove(item)\n",
    "            print(f\"{item} removed from {location}.\")\n",
    "        else:\n",
    "            print(f\"{item} not found in {location}.\")\n",
    "        self.display_inventory()\n",
    "\n",
    "    def check_item_exists(self, item):\n",
    "        for location, items in self.inventory.items():\n",
    "            if item in items:\n",
    "                print(f\"{item} found in {location}.\")\n",
    "                return True\n",
    "        print(f\"{item} not found in any location.\")\n",
    "        return False\n",
    "\n",
    "    def display_inventory(self):\n",
    "        print(\"\\nCurrent Inventory:\")\n",
    "        for location, items in self.inventory.items():\n",
    "            print(f\"{location}: {', '.join(items)}\")\n",
    "        print(\"\\n\")\n",
    "\n",
    "    def run_inventory_manager(self):\n",
    "        while True:\n",
    "            print(\"Inventory Management:\")\n",
    "            print(\"1. Add item to inventory\")\n",
    "            print(\"2. Remove item from inventory\")\n",
    "            print(\"3. Check if item exists in any location\")\n",
    "            print(\"4. Exit\")\n",
    "\n",
    "            choice = input(\"Enter your choice (1-4): \")\n",
    "\n",
    "            if choice == '1':\n",
    "                location = input(\"Enter location: \")\n",
    "                item = input(\"Enter item found in that location: \")\n",
    "                self.add_item(location, item)\n",
    "\n",
    "            elif choice == '2':\n",
    "                location = input(\"Enter location: \")\n",
    "                item = input(\"Enter item to remove from that location: \")\n",
    "                self.remove_item(location, item)\n",
    "\n",
    "            elif choice == '3':\n",
    "                item = input(\"Enter item to check: \")\n",
    "                self.check_item_exists(item)\n",
    "\n",
    "            elif choice == '4':\n",
    "                print(\"Exiting Inventory Manager. Goodbye!\")\n",
    "                break\n",
    "\n",
    "            else:\n",
    "                print(\"Invalid choice. Please enter a number between 1 and 4.\")\n",
    "\n",
    "\n",
    "inventory_manager = InventoryManager()\n",
    "inventory_manager.run_inventory_manager()"
   ]
  },
  {
   "cell_type": "code",
   "execution_count": null,
   "id": "cca4c3e1-0985-4cb3-8930-4b0a3a049b6e",
   "metadata": {},
   "outputs": [],
   "source": []
  }
 ],
 "metadata": {
  "kernelspec": {
   "display_name": "Python 3 (ipykernel)",
   "language": "python",
   "name": "python3"
  },
  "language_info": {
   "codemirror_mode": {
    "name": "ipython",
    "version": 3
   },
   "file_extension": ".py",
   "mimetype": "text/x-python",
   "name": "python",
   "nbconvert_exporter": "python",
   "pygments_lexer": "ipython3",
   "version": "3.10.8"
  }
 },
 "nbformat": 4,
 "nbformat_minor": 5
}
